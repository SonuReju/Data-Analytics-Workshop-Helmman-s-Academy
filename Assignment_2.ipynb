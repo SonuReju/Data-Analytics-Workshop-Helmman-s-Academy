{
  "nbformat": 4,
  "nbformat_minor": 0,
  "metadata": {
    "colab": {
      "name": "Assignment 2.ipynb",
      "provenance": [],
      "collapsed_sections": [],
      "authorship_tag": "ABX9TyPFOvaMNQoDLIIXzihhKRvB",
      "include_colab_link": true
    },
    "kernelspec": {
      "name": "python3",
      "display_name": "Python 3"
    }
  },
  "cells": [
    {
      "cell_type": "markdown",
      "metadata": {
        "id": "view-in-github",
        "colab_type": "text"
      },
      "source": [
        "<a href=\"https://colab.research.google.com/github/SonuReju/Data-Analytics-Workshop-Helmman-s-Academy/blob/main/Assignment_2.ipynb\" target=\"_parent\"><img src=\"https://colab.research.google.com/assets/colab-badge.svg\" alt=\"Open In Colab\"/></a>"
      ]
    },
    {
      "cell_type": "code",
      "metadata": {
        "id": "mP0HYNLKCUs1"
      },
      "source": [
        ""
      ],
      "execution_count": null,
      "outputs": []
    },
    {
      "cell_type": "code",
      "metadata": {
        "colab": {
          "base_uri": "https://localhost:8080/"
        },
        "id": "Zg-tmmlNC_5F",
        "outputId": "c3175103-e486-4026-d9c5-bc7b83f682f7"
      },
      "source": [
        "marks=int(input(\"Enter mark \"))\n",
        "if marks > 90:\n",
        "   print(\"Grade: A+\")\n",
        "elif marks > 80:\n",
        "     print(\"Grade: A\")\n",
        "elif marks > 70:\n",
        "     print(\"Grade: B+\")\n",
        "elif marks> 60:\n",
        "     print (\"Grade: B\") \n",
        "elif marks> 50:\n",
        "     print(\"Grade: C+\")\n",
        "elif marks> 40:\n",
        "     print(\"Grade: C\")\n",
        "elif marks> 30:\n",
        "     print(\"Grade: D+\")\n",
        "elif marks> 20:\n",
        "     print(\"Grade: D\")\n",
        "elif marks> 10:\n",
        "     print(\"Grade: F\")                    \n",
        "\n"
      ],
      "execution_count": null,
      "outputs": [
        {
          "output_type": "stream",
          "text": [
            "Enter mark 15\n",
            "Grade: F\n"
          ],
          "name": "stdout"
        }
      ]
    },
    {
      "cell_type": "code",
      "metadata": {
        "colab": {
          "base_uri": "https://localhost:8080/"
        },
        "id": "sbtMeXKF6570",
        "outputId": "273cad0f-a07d-44d7-a4d5-8d26f2a1fd90"
      },
      "source": [
        "Username='Sonu'\n",
        "Password='0123'\n",
        "otp_server='4567'\n",
        "Name=input(\"Enter username\\t\")\n",
        "User_password=input(\"Enter password\\t\")\n",
        "if Name==Username and User_password==Password :\n",
        "  otp_client=input(\"Enter OTP\\t\")\n",
        "  if otp_client!=otp_server:\n",
        "     print(\"OTP incorrect\")     \n",
        "  else  : print(\"Login successful.\\nWelcome \"+Username)\n",
        "elif Name!= Username:\n",
        "  print(\"User does not exist\")\n",
        "elif User_password !=Password:\n",
        "     print(\"Password incorrect\") \n"
      ],
      "execution_count": null,
      "outputs": [
        {
          "output_type": "stream",
          "text": [
            "Enter username\tSonu\n",
            "Enter password\t0123\n",
            "Enter OTP\t4567\n",
            "Login successful.\n",
            "Welcome Sonu\n"
          ],
          "name": "stdout"
        }
      ]
    },
    {
      "cell_type": "code",
      "metadata": {
        "colab": {
          "base_uri": "https://localhost:8080/"
        },
        "id": "qmG9FbRCDjZ8",
        "outputId": "c304d9be-06d7-42d8-c5f3-6a185dcb5d9a"
      },
      "source": [
        "SubjectMarks={\n",
        "    \"Maths\":50,\n",
        "    \"Physics\":96,\n",
        "    \"Chemistry\":55,\n",
        "    \"Computer Science\":80\n",
        "}\n",
        "SubjectMarks.keys()\n",
        "for keys in SubjectMarks.keys():\n",
        "  if SubjectMarks[keys]<60:\n",
        "    print(keys+ \" : FAILED\")"
      ],
      "execution_count": null,
      "outputs": [
        {
          "output_type": "stream",
          "text": [
            "Maths : FAILED\n",
            "Chemistry : FAILED\n"
          ],
          "name": "stdout"
        }
      ]
    },
    {
      "cell_type": "code",
      "metadata": {
        "id": "_zOWUEt1N_Zj"
      },
      "source": [
        ""
      ],
      "execution_count": null,
      "outputs": []
    }
  ]
}